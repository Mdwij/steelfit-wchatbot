{
 "cells": [
  {
   "cell_type": "code",
   "execution_count": 1,
   "metadata": {},
   "outputs": [],
   "source": [
    "import smtplib\n",
    "from email.mime.text import MIMEText\n",
    "from email.mime.multipart import MIMEMultipart\n",
    "\n",
    "def send_email(subject, body, recipient, sender_email, sender_password):\n",
    "    # Create message object instance\n",
    "    message = MIMEMultipart()\n",
    "\n",
    "    # Set the message body\n",
    "    message.attach(MIMEText(body, 'plain'))\n",
    "\n",
    "    # Set the message subject\n",
    "    message['Subject'] = subject\n",
    "\n",
    "    # Set the message recipient\n",
    "    message['To'] = recipient\n",
    "\n",
    "    # Set the message sender\n",
    "    message['From'] = sender_email\n",
    "\n",
    "    # Connect to the SMTP server and send the message\n",
    "    server = smtplib.SMTP('smtp.gmail.com', 587)\n",
    "    server.starttls()\n",
    "    server.login(sender_email, sender_password)\n",
    "    server.sendmail(sender_email, recipient, message.as_string())\n",
    "    server.quit()"
   ]
  },
  {
   "cell_type": "code",
   "execution_count": 3,
   "metadata": {},
   "outputs": [],
   "source": [
    "send_email(\"Testing\", \"random text\", \"19bce062@nirmauni.ac.in\", \"19bce062@nirmauni.ac.in\", \"oegpmovihbpdvmev\")"
   ]
  },
  {
   "cell_type": "code",
   "execution_count": null,
   "metadata": {},
   "outputs": [],
   "source": []
  }
 ],
 "metadata": {
  "kernelspec": {
   "display_name": "Python 3",
   "language": "python",
   "name": "python3"
  },
  "language_info": {
   "codemirror_mode": {
    "name": "ipython",
    "version": 3
   },
   "file_extension": ".py",
   "mimetype": "text/x-python",
   "name": "python",
   "nbconvert_exporter": "python",
   "pygments_lexer": "ipython3",
   "version": "3.10.10"
  },
  "orig_nbformat": 4
 },
 "nbformat": 4,
 "nbformat_minor": 2
}
